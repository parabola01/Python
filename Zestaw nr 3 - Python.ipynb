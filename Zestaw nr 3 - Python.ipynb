{
 "cells": [
  {
   "cell_type": "markdown",
   "id": "6529da1d",
   "metadata": {},
   "source": [
    "Zadanie 3.1"
   ]
  },
  {
   "cell_type": "code",
   "execution_count": 5,
   "id": "51c56f20",
   "metadata": {},
   "outputs": [
    {
     "name": "stdout",
     "output_type": "stream",
     "text": [
      "97\n",
      "x\n",
      "98\n",
      "y\n"
     ]
    }
   ],
   "source": [
    "x = 2; y = 3;\n",
    "if (x > y):\n",
    "    result = x;\n",
    "else:\n",
    "    result = y;\n",
    "\n",
    "#powyższy kod poprawny\n",
    "\n",
    "#for i in \"axby\": if ord(i) < 100: print (i)\n",
    "\n",
    "#powyższy kod niepoprawny: zagnieżdżone instrukcje nie mogą znajdować się w jednej linii, nie zachowano konwencji\n",
    "\n",
    "for i in \"axby\": print (ord(i) if ord(i) < 100 else i)\n",
    "    \n",
    "#powyższy kod poprawny"
   ]
  },
  {
   "cell_type": "markdown",
   "id": "4e6edcfa",
   "metadata": {},
   "source": [
    "Zadanie 3.2"
   ]
  },
  {
   "cell_type": "code",
   "execution_count": 26,
   "id": "0503a79d",
   "metadata": {},
   "outputs": [],
   "source": [
    "L = [3, 5, 4]; L = L.sort()\n",
    "#print(L)\n",
    "#czyścimy wartości przypisując L.sort do listy L\n",
    "\n",
    "# x, y = 1, 2, 3\n",
    "#nie możemy przypisać trzech wartości do dwóch zmiennych\n",
    "\n",
    "#X = 1, 2, 3 ; X[1] = 4\n",
    "#próbujemy przypisać zmiennej tuple kilka wartości i zmienić jej wartość na 1 miejscu jakby była listą\n",
    "\n",
    "#X = [1, 2, 3] ; X[3] = 4\n",
    "#wychodzimy poza zakres listy używając X[3] gdzie możemy maksymalnie zastosować X[2]\n",
    "\n",
    "#X = \"abc\"; X.append(\"d\")\n",
    "#objekt sting nie posiada atrybutu \"append\"\n",
    "\n",
    "#L = list(map(pow, range(8)))\n",
    "#funkcja pow() potrzebuje do działania dwóch argumentów"
   ]
  },
  {
   "cell_type": "markdown",
   "id": "088da574",
   "metadata": {},
   "source": [
    "Zadanie 3.3"
   ]
  },
  {
   "cell_type": "code",
   "execution_count": 28,
   "id": "58a50426",
   "metadata": {
    "scrolled": false
   },
   "outputs": [
    {
     "name": "stdout",
     "output_type": "stream",
     "text": [
      "1\n",
      "2\n",
      "4\n",
      "5\n",
      "7\n",
      "8\n",
      "10\n",
      "11\n",
      "13\n",
      "14\n",
      "16\n",
      "17\n",
      "19\n",
      "20\n",
      "22\n",
      "23\n",
      "25\n",
      "26\n",
      "28\n",
      "29\n"
     ]
    }
   ],
   "source": [
    "for i in range(0,31):\n",
    "    if i%3 != 0 :\n",
    "        print(i)"
   ]
  },
  {
   "cell_type": "markdown",
   "id": "2bae34a6",
   "metadata": {},
   "source": [
    "Zadanie 3.4"
   ]
  },
  {
   "cell_type": "code",
   "execution_count": 37,
   "id": "c6d90a39",
   "metadata": {},
   "outputs": [
    {
     "name": "stdout",
     "output_type": "stream",
     "text": [
      "Podaj liczbę: 3\n",
      "n: 3.0 n^3: 27.0\n",
      "Podaj liczbę: 4\n",
      "n: 4.0 n^3: 64.0\n",
      "Podaj liczbę: number\n",
      "To nie jest liczba!\n",
      "Podaj liczbę: stop\n"
     ]
    }
   ],
   "source": [
    "while True:\n",
    "    n = input('Podaj liczbę: ')\n",
    "    if n == 'stop':\n",
    "        break\n",
    "    try:\n",
    "        number = float(n)\n",
    "    except ValueError:\n",
    "        print('To nie jest liczba!')\n",
    "    else:\n",
    "        print('n:', number, 'n^3:', pow(number,3))\n",
    "   "
   ]
  },
  {
   "cell_type": "markdown",
   "id": "b237effc",
   "metadata": {},
   "source": [
    "Zadanie 3.5"
   ]
  },
  {
   "cell_type": "code",
   "execution_count": 91,
   "id": "5f08400e",
   "metadata": {},
   "outputs": [
    {
     "name": "stdout",
     "output_type": "stream",
     "text": [
      "|....|....|....|....|....|....|....|....|....|....|....|....|\n",
      "0    1    2    3    4    5    6    7    8    9   10   11   12"
     ]
    }
   ],
   "source": [
    "for i in range(0,12):\n",
    "    print('|....', end = '')\n",
    "print('|\\n0', end = '')\n",
    "for i in range(1,13):\n",
    "    print(f'{i:>5}', end = '')"
   ]
  },
  {
   "cell_type": "markdown",
   "id": "3a208fa6",
   "metadata": {},
   "source": [
    "Zadanie 3.6"
   ]
  },
  {
   "cell_type": "code",
   "execution_count": 138,
   "id": "53ebaa6a",
   "metadata": {},
   "outputs": [
    {
     "name": "stdout",
     "output_type": "stream",
     "text": [
      "+---+---+---+---+\n",
      "|   |   |   |   |\n",
      "+---+---+---+---+\n",
      "|   |   |   |   |\n",
      "+---+---+---+---+\n"
     ]
    }
   ],
   "source": [
    "x = 2\n",
    "y = 4\n",
    "\n",
    "for i in range(x+1):\n",
    "    for j in range(y):\n",
    "         print('+---', end = '')\n",
    "    if j == y-1:\n",
    "        print('+')\n",
    "    if i is not x:\n",
    "        for j in range(y):\n",
    "            print('|   ', end = '')\n",
    "        if j == y-1:\n",
    "            print('|')"
   ]
  },
  {
   "cell_type": "markdown",
   "id": "91c79088",
   "metadata": {},
   "source": [
    "Zadanie 3.8"
   ]
  },
  {
   "cell_type": "code",
   "execution_count": 157,
   "id": "0f5def6d",
   "metadata": {},
   "outputs": [
    {
     "name": "stdout",
     "output_type": "stream",
     "text": [
      "[1, 2]\n",
      "[1, 2, 3, 4, 5, 6, 7, 8, 9, 10]\n"
     ]
    }
   ],
   "source": [
    "a = [1, 2, 3, 4, 5, 6]\n",
    "b = [1, 2, 7, 8, 9, 10]\n",
    "\n",
    "L = []\n",
    "\n",
    "for i in a:\n",
    "    if i in b:\n",
    "         if i not in L:\n",
    "            L.append(i)\n",
    "            \n",
    "print(L)\n",
    "\n",
    "for i in b:\n",
    "    if i not in a:\n",
    "        a.append(i)\n",
    "print(a)"
   ]
  },
  {
   "cell_type": "markdown",
   "id": "8116d196",
   "metadata": {},
   "source": [
    "Zadanie 3.9"
   ]
  },
  {
   "cell_type": "code",
   "execution_count": 161,
   "id": "9ce85ae9",
   "metadata": {},
   "outputs": [
    {
     "name": "stdout",
     "output_type": "stream",
     "text": [
      "0 4 3 7 18 "
     ]
    }
   ],
   "source": [
    "a = [[],[4],(1,2),[3,4],(5,6,7)]\n",
    "\n",
    "for i in a:\n",
    "    print(sum(i) , end = ' ')"
   ]
  },
  {
   "cell_type": "markdown",
   "id": "1ab4fea5",
   "metadata": {},
   "source": [
    "Zadanie 3.10"
   ]
  },
  {
   "cell_type": "code",
   "execution_count": 185,
   "id": "78ee18a3",
   "metadata": {},
   "outputs": [
    {
     "name": "stdout",
     "output_type": "stream",
     "text": [
      "10\n",
      "1000\n",
      "50\n"
     ]
    }
   ],
   "source": [
    "number1= {'I': 1,'V': 5, 'X': 10, 'L': 50, 'C': 100, 'D': 500, 'M': 1000}\n",
    "#lub z listy krotek\n",
    "number2 = dict([('I',1),('V',5),('X',10),('L',50),('C',100),('D',500),('M',1000)])\n",
    "#lub\n",
    "number3 = dict(I=1, V=5, X=10, L=50, C=100, D=500, M=1000)\n",
    "\n",
    "print(number1['X'])\n",
    "print(number2['M'])\n",
    "print(number3['L'])"
   ]
  }
 ],
 "metadata": {
  "kernelspec": {
   "display_name": "Python 3",
   "language": "python",
   "name": "python3"
  },
  "language_info": {
   "codemirror_mode": {
    "name": "ipython",
    "version": 3
   },
   "file_extension": ".py",
   "mimetype": "text/x-python",
   "name": "python",
   "nbconvert_exporter": "python",
   "pygments_lexer": "ipython3",
   "version": "3.8.8"
  }
 },
 "nbformat": 4,
 "nbformat_minor": 5
}
