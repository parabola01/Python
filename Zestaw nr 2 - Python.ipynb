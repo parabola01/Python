{
 "cells": [
  {
   "cell_type": "markdown",
   "id": "1b7608e4",
   "metadata": {},
   "source": [
    "Zadanie 2.10"
   ]
  },
  {
   "cell_type": "code",
   "execution_count": 1,
   "id": "5d2b7a94",
   "metadata": {},
   "outputs": [
    {
     "name": "stdout",
     "output_type": "stream",
     "text": [
      "Litwo Ojczyzno moja ty jesteś jak zdrowie \n",
      "Ile cię trzeba cenić ten tylko się dowie \n",
      "Kto cię stracił\n",
      "Ilosc wyrazow: 18\n"
     ]
    }
   ],
   "source": [
    "line = 'Litwo Ojczyzno moja ty jesteś jak zdrowie \\nIle cię trzeba cenić ten tylko się dowie \\nKto cię stracił'\n",
    "print(line)\n",
    "\n",
    "l = len(line.split())\n",
    "\n",
    "print('Ilosc wyrazow:', l)"
   ]
  },
  {
   "cell_type": "markdown",
   "id": "ab2fab09",
   "metadata": {},
   "source": [
    "Zadanie 2.11"
   ]
  },
  {
   "cell_type": "code",
   "execution_count": 2,
   "id": "f243e4e1",
   "metadata": {},
   "outputs": [
    {
     "name": "stdout",
     "output_type": "stream",
     "text": [
      "L_i_t_w_o_ _O_j_c_z_y_z_n_o_ _m_o_j_a_ _t_y_ _j_e_s_t_e_ś_ _j_a_k_ _z_d_r_o_w_i_e_ _\n",
      "_I_l_e_ _c_i_ę_ _t_r_z_e_b_a_ _c_e_n_i_ć_ _t_e_n_ _t_y_l_k_o_ _s_i_ę_ _d_o_w_i_e_ _\n",
      "_K_t_o_ _c_i_ę_ _s_t_r_a_c_i_ł_\n"
     ]
    }
   ],
   "source": [
    "f = \"\"\n",
    "for signs in line:\n",
    "    f += (signs + '_')\n",
    "\n",
    "print(f)"
   ]
  },
  {
   "cell_type": "markdown",
   "id": "1e4bde29",
   "metadata": {},
   "source": [
    "Zadanie 2.12"
   ]
  },
  {
   "cell_type": "code",
   "execution_count": 3,
   "id": "39ceb9b2",
   "metadata": {},
   "outputs": [
    {
     "name": "stdout",
     "output_type": "stream",
     "text": [
      "Napis zbudowany z poczatkowych znakow: \n",
      "LOmtjjzIctcttsdKcs\n",
      "Napis zbudowany z koncowych znakow: \n",
      "ooayśkeeęaćnoęeoęł"
     ]
    }
   ],
   "source": [
    "print('Napis zbudowany z poczatkowych znakow: ')\n",
    "for words in line.split():\n",
    "    print(words[0], end = '')\n",
    "    \n",
    "print('\\nNapis zbudowany z koncowych znakow: ')\n",
    "for words in line.split():\n",
    "    print(words[-1], end = '')"
   ]
  },
  {
   "cell_type": "markdown",
   "id": "aa505c30",
   "metadata": {},
   "source": [
    "Zadanie 2.13"
   ]
  },
  {
   "cell_type": "code",
   "execution_count": 4,
   "id": "58d723bc",
   "metadata": {},
   "outputs": [
    {
     "name": "stdout",
     "output_type": "stream",
     "text": [
      "Dlugosc calkowita wyrazow to: 99\n"
     ]
    }
   ],
   "source": [
    "for words in line.split():\n",
    "    l += len(words)\n",
    "\n",
    "print('Dlugosc calkowita wyrazow to:', l)"
   ]
  },
  {
   "cell_type": "markdown",
   "id": "ba028787",
   "metadata": {},
   "source": [
    "Zadanie 2.14"
   ]
  },
  {
   "cell_type": "code",
   "execution_count": 5,
   "id": "2bd1a2b4",
   "metadata": {},
   "outputs": [
    {
     "name": "stdout",
     "output_type": "stream",
     "text": [
      "Najdluzsze slowo to: Ojczyzno o dlugosci: 8\n"
     ]
    }
   ],
   "source": [
    "current = 0\n",
    "word_max = ''\n",
    "\n",
    "for words in line.split():\n",
    "    if len(words) > current:\n",
    "        current = len(words)\n",
    "        word_max = words\n",
    "\n",
    "print('Najdluzsze slowo to:', word_max,'o dlugosci:', current)"
   ]
  },
  {
   "cell_type": "markdown",
   "id": "0696aee1",
   "metadata": {},
   "source": [
    "Zadanie 2.15"
   ]
  },
  {
   "cell_type": "code",
   "execution_count": 6,
   "id": "d821e523",
   "metadata": {},
   "outputs": [
    {
     "name": "stdout",
     "output_type": "stream",
     "text": [
      "23571024\n"
     ]
    }
   ],
   "source": [
    "L = [2, 3, 5, 7, 10, 24]\n",
    "word = ''\n",
    "\n",
    "for num in L:\n",
    "    word += str(num)\n",
    "\n",
    "print(word)"
   ]
  },
  {
   "cell_type": "markdown",
   "id": "2dce3b7f",
   "metadata": {},
   "source": [
    "Zadanie 2.16"
   ]
  },
  {
   "cell_type": "code",
   "execution_count": 9,
   "id": "32acc315",
   "metadata": {},
   "outputs": [
    {
     "name": "stdout",
     "output_type": "stream",
     "text": [
      "Przed zmiana: Litwo Ojczyzno moja ty jesteś jak zdrowie \n",
      "Ile cię trzeba cenić GvR ten tylko się dowie \n",
      "Kto cię stracił\n",
      "Po zmianie: Litwo Ojczyzno moja ty jesteś jak zdrowie \n",
      "Ile cię trzeba cenić Guido van Rossum ten tylko się dowie \n",
      "Kto cię stracił\n"
     ]
    }
   ],
   "source": [
    "line = 'Litwo Ojczyzno moja ty jesteś jak zdrowie \\nIle cię trzeba cenić GvR ten tylko się dowie \\nKto cię stracił'\n",
    "\n",
    "print('Przed zmiana:', line)\n",
    "\n",
    "line2 = line.replace('GvR', 'Guido van Rossum')\n",
    "\n",
    "print('Po zmianie:', line2)"
   ]
  },
  {
   "cell_type": "markdown",
   "id": "66ab030c",
   "metadata": {},
   "source": [
    "Zadanie 2.17"
   ]
  },
  {
   "cell_type": "code",
   "execution_count": 10,
   "id": "d74996e7",
   "metadata": {},
   "outputs": [
    {
     "name": "stdout",
     "output_type": "stream",
     "text": [
      "Napis posortowany alfabetycznie:\n",
      "cenić cię cię dowie GvR Ile jak jesteś Kto Litwo moja Ojczyzno się stracił ten trzeba ty tylko zdrowie \n",
      "\n",
      "Napis posortowany wedlug dlugosci wyrazow:\n",
      "ty jak Ile cię GvR ten się Kto cię moja Litwo cenić tylko dowie jesteś trzeba zdrowie stracił Ojczyzno "
     ]
    }
   ],
   "source": [
    "print('Napis posortowany alfabetycznie:')\n",
    "x = line.split()\n",
    "x.sort(key = str.upper)\n",
    "\n",
    "for words in x:\n",
    "    print(words + \" \", end = '')\n",
    "\n",
    "print('\\n\\nNapis posortowany wedlug dlugosci wyrazow:')\n",
    "y = line.split()\n",
    "y.sort(key = len)\n",
    "\n",
    "for words in y:\n",
    "    print(words + \" \", end = '')"
   ]
  },
  {
   "cell_type": "markdown",
   "id": "f9c84a49",
   "metadata": {},
   "source": [
    "Zadanie 2.18"
   ]
  },
  {
   "cell_type": "code",
   "execution_count": 12,
   "id": "7c63c4da",
   "metadata": {},
   "outputs": [
    {
     "name": "stdout",
     "output_type": "stream",
     "text": [
      "8\n"
     ]
    }
   ],
   "source": [
    "num = 102901234820834100001734813480\n",
    "\n",
    "x = str(num)\n",
    "\n",
    "print(x.count('0'))"
   ]
  },
  {
   "cell_type": "markdown",
   "id": "260daf4b",
   "metadata": {},
   "source": [
    "Zadanie 2.19"
   ]
  },
  {
   "cell_type": "code",
   "execution_count": 19,
   "id": "b3b16ae7",
   "metadata": {},
   "outputs": [
    {
     "name": "stdout",
     "output_type": "stream",
     "text": [
      "002003004048056023123456723"
     ]
    }
   ],
   "source": [
    "L = [2, 3, 4, 48, 56, 23, 123, 456, 723]\n",
    "\n",
    "for num in L:\n",
    "   print(str(num).zfill(3), end = '')\n"
   ]
  }
 ],
 "metadata": {
  "kernelspec": {
   "display_name": "Python 3",
   "language": "python",
   "name": "python3"
  },
  "language_info": {
   "codemirror_mode": {
    "name": "ipython",
    "version": 3
   },
   "file_extension": ".py",
   "mimetype": "text/x-python",
   "name": "python",
   "nbconvert_exporter": "python",
   "pygments_lexer": "ipython3",
   "version": "3.8.8"
  }
 },
 "nbformat": 4,
 "nbformat_minor": 5
}
