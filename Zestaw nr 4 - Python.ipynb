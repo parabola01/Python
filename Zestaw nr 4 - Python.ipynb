{
 "cells": [
  {
   "cell_type": "markdown",
   "id": "40acc330",
   "metadata": {},
   "source": [
    "Zadanie 4.2"
   ]
  },
  {
   "cell_type": "code",
   "execution_count": 29,
   "id": "67357b91",
   "metadata": {},
   "outputs": [
    {
     "name": "stdout",
     "output_type": "stream",
     "text": [
      "|....|....|....|....|....|....|....|....|....|....|....|....|\n",
      "0    1    2    3    4    5    6    7    8    9   10   11   12\n",
      "\n",
      "+---+---+---+---+\n",
      "|   |   |   |   |\n",
      "+---+---+---+---+\n",
      "|   |   |   |   |\n",
      "+---+---+---+---+\n",
      "\n",
      "\n"
     ]
    }
   ],
   "source": [
    "def make_ruler(n):\n",
    "    x = ''\n",
    "    \n",
    "    for i in range(0,n):\n",
    "        x = x + '|....'\n",
    "    x = x + '|\\n0'\n",
    "    for i in range(1,n+1):\n",
    "        x = x+ f'{i:>5}'\n",
    "    return x\n",
    "\n",
    "print(make_ruler(12))\n",
    "\n",
    "def make_grid(x, y): \n",
    "    z =''\n",
    "    \n",
    "    for i in range(x+1):\n",
    "        for j in range(y):\n",
    "            z = z + '+---'\n",
    "        if j == y-1:\n",
    "            z = z + '+'\n",
    "            z = z + '\\n'\n",
    "        if i is not x:\n",
    "            for j in range(y):\n",
    "                z = z + '|   '\n",
    "            if j == y-1:\n",
    "                z = z + '|'\n",
    "        z = z + '\\n'\n",
    "    return z\n",
    "\n",
    "print('\\n' + make_grid(2,4))"
   ]
  },
  {
   "cell_type": "markdown",
   "id": "767f7857",
   "metadata": {},
   "source": [
    "Zadanie 4.3"
   ]
  },
  {
   "cell_type": "code",
   "execution_count": 37,
   "id": "03ce9b98",
   "metadata": {},
   "outputs": [
    {
     "name": "stdout",
     "output_type": "stream",
     "text": [
      "120\n"
     ]
    }
   ],
   "source": [
    "def factorial(n):\n",
    "    if n == 0 or n == 1:\n",
    "        return 1\n",
    "    else:\n",
    "        product = 1\n",
    "        while n>1:\n",
    "            product = product * n\n",
    "            n = n - 1\n",
    "        return product\n",
    "\n",
    "print(factorial(5))"
   ]
  },
  {
   "cell_type": "markdown",
   "id": "be69427c",
   "metadata": {},
   "source": [
    "Zadanie 4.4"
   ]
  },
  {
   "cell_type": "code",
   "execution_count": 38,
   "id": "a2b45d12",
   "metadata": {},
   "outputs": [
    {
     "name": "stdout",
     "output_type": "stream",
     "text": [
      "8\n"
     ]
    }
   ],
   "source": [
    "def fibonacci(n):\n",
    "    a,b = 0,1\n",
    "    for i in range(n):\n",
    "        a,b = b,a+b\n",
    "    return a\n",
    "\n",
    "print(fibonacci(6))"
   ]
  },
  {
   "cell_type": "markdown",
   "id": "880198a2",
   "metadata": {},
   "source": [
    "Zadanie 4.5"
   ]
  },
  {
   "cell_type": "code",
   "execution_count": 56,
   "id": "0141bf98",
   "metadata": {},
   "outputs": [
    {
     "name": "stdout",
     "output_type": "stream",
     "text": [
      "[1, 2, 3, 4, 5, 6, 7, 8, 9, 10, 11, 12]\n",
      "[1, 2, 3, 9, 8, 7, 6, 5, 4, 10, 11, 12]\n",
      "\n",
      "\n",
      "[13, 14, 15, 16, 17, 18, 19, 20, 21, 22, 23, 34]\n",
      "[13, 14, 15, 18, 17, 16, 19, 20, 21, 22, 23, 34]\n"
     ]
    }
   ],
   "source": [
    "def odwracanie_iteracyjne(L, left, right):\n",
    "    left += len(L) if left < 0 else 0\n",
    "    right += len(L) if right < 0 else 0\n",
    "    while left < right:\n",
    "        L[left], L[right] = L[right], L[left]\n",
    "        left = left+1\n",
    "        right = right-1\n",
    "\n",
    "        \n",
    "L = [1,2,3,4,5,6,7,8,9,10,11,12]\n",
    "\n",
    "print(L)\n",
    "odwracanie_iteracyjne(L,3,8)\n",
    "print(L)\n",
    "\n",
    "L2 = [13,14,15,16,17,18,19,20,21,22,23,34]\n",
    "def odwracanie_rekurencyjne(L, left, right):\n",
    "    left += len(L) if left < 0 else 0\n",
    "    right += len(L) if right < 0 else 0\n",
    "    if left < right:\n",
    "        L[left], L[right] = L[right], L[left]\n",
    "        odwracanie_rekurencyjne(L, left+1, right-1)\n",
    "\n",
    "print('\\n')\n",
    "print(L2)\n",
    "odwracanie_rekurencyjne(L2,3,5)\n",
    "print(L2)"
   ]
  },
  {
   "cell_type": "markdown",
   "id": "5a291710",
   "metadata": {},
   "source": [
    "Zadanie 4.6"
   ]
  },
  {
   "cell_type": "code",
   "execution_count": 60,
   "id": "4b9bec96",
   "metadata": {},
   "outputs": [
    {
     "name": "stdout",
     "output_type": "stream",
     "text": [
      "35\n"
     ]
    }
   ],
   "source": [
    "def sum_seq(sequence):\n",
    "    product = 0\n",
    "    for item in sequence:\n",
    "        if isinstance(item, (list,tuple)):\n",
    "            product += sum_seq(item)\n",
    "        else:\n",
    "            product += item\n",
    "    return product\n",
    "a = [[],[4],[3,(1,2)],[3,4],(5,6,7)]\n",
    "\n",
    "print(sum_seq(a))"
   ]
  },
  {
   "cell_type": "markdown",
   "id": "aec2cfd8",
   "metadata": {},
   "source": [
    "Zadanie 4.7"
   ]
  },
  {
   "cell_type": "code",
   "execution_count": 62,
   "id": "9e710a18",
   "metadata": {},
   "outputs": [
    {
     "name": "stdout",
     "output_type": "stream",
     "text": [
      "[4, 3, 1, 2, 3, 4, 5, 6, 7]\n"
     ]
    }
   ],
   "source": [
    "def flatten(seq):\n",
    "    L=[]\n",
    "    for item in seq:\n",
    "        if isinstance(item, (list, tuple)):\n",
    "            L.extend(flatten(item))\n",
    "        else:\n",
    "            L.append(item)\n",
    "    return L\n",
    "\n",
    "a = [[],[4],[3,(1,2)],[3,4],(5,6,7)]\n",
    "\n",
    "print(flatten(a))"
   ]
  }
 ],
 "metadata": {
  "kernelspec": {
   "display_name": "Python 3",
   "language": "python",
   "name": "python3"
  },
  "language_info": {
   "codemirror_mode": {
    "name": "ipython",
    "version": 3
   },
   "file_extension": ".py",
   "mimetype": "text/x-python",
   "name": "python",
   "nbconvert_exporter": "python",
   "pygments_lexer": "ipython3",
   "version": "3.8.8"
  }
 },
 "nbformat": 4,
 "nbformat_minor": 5
}
